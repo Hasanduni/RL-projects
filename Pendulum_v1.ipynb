{
  "cells": [
    {
      "cell_type": "code",
      "source": [
        "import numpy as np\n",
        "import matplotlib.pyplot as plt\n",
        "from IPython import display as ipythondisplay"
      ],
      "metadata": {
        "id": "Vcd5ECCZ_kgU"
      },
      "execution_count": null,
      "outputs": []
    },
    {
      "cell_type": "code",
      "source": [
        "from gym import envs\n",
        "all_envs=envs.registry.all()\n",
        "env_ids=[env_spec.id for env_spec in all_envs]\n",
        "print(sorted(env_ids))"
      ],
      "metadata": {
        "colab": {
          "base_uri": "https://localhost:8080/"
        },
        "id": "UoCLrmhVBCVT",
        "outputId": "5cac277e-fc0b-469b-8929-986aabc3b80f"
      },
      "execution_count": null,
      "outputs": [
        {
          "output_type": "stream",
          "name": "stdout",
          "text": [
            "['Acrobot-v1', 'Ant-v2', 'Ant-v3', 'Ant-v4', 'BipedalWalker-v3', 'BipedalWalkerHardcore-v3', 'Blackjack-v1', 'CarRacing-v2', 'CartPole-v0', 'CartPole-v1', 'CliffWalking-v0', 'FrozenLake-v1', 'FrozenLake8x8-v1', 'HalfCheetah-v2', 'HalfCheetah-v3', 'HalfCheetah-v4', 'Hopper-v2', 'Hopper-v3', 'Hopper-v4', 'Humanoid-v2', 'Humanoid-v3', 'Humanoid-v4', 'HumanoidStandup-v2', 'HumanoidStandup-v4', 'InvertedDoublePendulum-v2', 'InvertedDoublePendulum-v4', 'InvertedPendulum-v2', 'InvertedPendulum-v4', 'LunarLander-v2', 'LunarLanderContinuous-v2', 'MountainCar-v0', 'MountainCarContinuous-v0', 'Pendulum-v1', 'Pusher-v2', 'Pusher-v4', 'Reacher-v2', 'Reacher-v4', 'Swimmer-v2', 'Swimmer-v3', 'Swimmer-v4', 'Taxi-v3', 'Walker2d-v2', 'Walker2d-v3', 'Walker2d-v4']\n"
          ]
        },
        {
          "output_type": "stream",
          "name": "stderr",
          "text": [
            "/usr/local/lib/python3.10/dist-packages/gym/envs/registration.py:421: UserWarning: \u001b[33mWARN: The `registry.all` method is deprecated. Please use `registry.values` instead.\u001b[0m\n",
            "  logger.warn(\n"
          ]
        }
      ]
    },
    {
      "cell_type": "code",
      "source": [
        "import gym\n",
        "env=gym.make('Pendulum-v1').env\n"
      ],
      "metadata": {
        "colab": {
          "base_uri": "https://localhost:8080/"
        },
        "id": "Nyw5ouHlBGZh",
        "outputId": "a411e910-e0e9-4264-e506-8afdb3c6bf34"
      },
      "execution_count": null,
      "outputs": [
        {
          "output_type": "stream",
          "name": "stderr",
          "text": [
            "/usr/local/lib/python3.10/dist-packages/gym/core.py:317: DeprecationWarning: \u001b[33mWARN: Initializing wrapper in old step API which returns one bool instead of two. It is recommended to set `new_step_api=True` to use new step API. This will be the default behaviour in future.\u001b[0m\n",
            "  deprecation(\n",
            "/usr/local/lib/python3.10/dist-packages/gym/wrappers/step_api_compatibility.py:39: DeprecationWarning: \u001b[33mWARN: Initializing environment in old step API which returns one bool instead of two. It is recommended to set `new_step_api=True` to use new step API. This will be the default behaviour in future.\u001b[0m\n",
            "  deprecation(\n"
          ]
        }
      ]
    },
    {
      "cell_type": "code",
      "execution_count": null,
      "metadata": {
        "colab": {
          "base_uri": "https://localhost:8080/"
        },
        "id": "PKyAL3itnxPx",
        "outputId": "74dbad2b-9df9-49c3-a9e7-16950410bf4f"
      },
      "outputs": [
        {
          "output_type": "stream",
          "name": "stdout",
          "text": [
            "State space: Box([-1. -1. -8.], [1. 1. 8.], (3,), float32)\n",
            "Action space: Box(-2.0, 2.0, (1,), float32)\n"
          ]
        }
      ],
      "source": [
        "print('State space:',env.observation_space)\n",
        "print('Action space:',env.action_space)"
      ]
    },
    {
      "cell_type": "code",
      "execution_count": null,
      "metadata": {
        "id": "y1Z_azXjoKGW"
      },
      "outputs": [],
      "source": [
        "import imageio\n"
      ]
    },
    {
      "cell_type": "code",
      "execution_count": null,
      "metadata": {
        "id": "AXJ0gmSFoPY6"
      },
      "outputs": [],
      "source": [
        "nb_actions=env.action_space"
      ]
    },
    {
      "cell_type": "code",
      "execution_count": null,
      "metadata": {
        "id": "Xqm5YEBnoSoK"
      },
      "outputs": [],
      "source": [
        "nb_obs=env.observation_space"
      ]
    },
    {
      "cell_type": "code",
      "execution_count": null,
      "metadata": {
        "id": "R9CFCKbNoZLB"
      },
      "outputs": [],
      "source": [
        "from collections import deque"
      ]
    },
    {
      "cell_type": "code",
      "execution_count": null,
      "metadata": {
        "id": "ppCf3EaIofNi"
      },
      "outputs": [],
      "source": [
        "class DQNAgent:\n",
        "  def __init__(self):\n",
        "    self.state_dim      = 3\n",
        "    self.action_dim     = 9\n",
        "    self.lr             = 0.01\n",
        "    self.gamma          = 0.98\n",
        "    self.tau            = 0.01\n",
        "    self.episilon       = 1.0\n",
        "    self.episilon_decay = 0.98\n",
        "    self.episilon_min   = 0.001\n",
        "    self.buffer_size    = 100000\n",
        "    self.batch_size     = 200\n",
        "    self.memory         = ReplayBuffer(self.buffer_size)\n",
        "\n",
        "    self.Q        =QNetwork(self.state_dim,self.action_dim,self.lr)\n",
        "    self.Q_target =QNetwork(self.state_dim,self.action_dim,self.lr)\n",
        "    self.Q_target.load_state_dict(self.Q.state_dict())"
      ]
    },
    {
      "cell_type": "code",
      "execution_count": null,
      "metadata": {
        "id": "F9-TLx1Mq-3b"
      },
      "outputs": [],
      "source": [
        "class ReplayBuffer:\n",
        "  def __init__(self,buffer_limit):\n",
        "    self.buffer = deque(maxlen=buffer_limit)\n",
        "  def put(self,transition):\n",
        "    self.buffer.append(transition)"
      ]
    },
    {
      "cell_type": "code",
      "execution_count": null,
      "metadata": {
        "id": "YSzm_gSdrcGi"
      },
      "outputs": [],
      "source": [
        "import torch.nn as nn"
      ]
    },
    {
      "cell_type": "code",
      "execution_count": null,
      "metadata": {
        "id": "8E188AHXrfzK"
      },
      "outputs": [],
      "source": [
        "class QNetwork(nn.Module):\n",
        "  def __init__(self,state_dim,action_dim,q_lr):\n",
        "    super(QNetwork,self).__init__()\n",
        "\n",
        "    self.fc_1 = nn.Linear(state_dim,64)\n",
        "    self.fc_2 = nn.Linear(64,32)\n",
        "    self.fc_out = nn.Linear(32,action_dim)\n",
        "\n",
        "    self.lr=q_lr\n",
        "\n",
        "    self.optimizer = optim.Adam(self.parameters(),lr=self.lr)\n"
      ]
    },
    {
      "cell_type": "code",
      "execution_count": null,
      "metadata": {
        "id": "c8OjgWqVsuur"
      },
      "outputs": [],
      "source": [
        "import torch.optim as optim"
      ]
    },
    {
      "cell_type": "code",
      "execution_count": null,
      "metadata": {
        "colab": {
          "base_uri": "https://localhost:8080/",
          "height": 435
        },
        "id": "UppkPjs5s3NC",
        "outputId": "ce54671c-6346-4aad-b929-695b505c4991"
      },
      "outputs": [
        {
          "output_type": "display_data",
          "data": {
            "text/plain": [
              "<Figure size 640x480 with 1 Axes>"
            ],
            "image/png": "[encoded data removed]"
          },
          "metadata": {}
        }
      ],
      "source": [
        "import pygame\n",
        "env.reset()\n",
        "pygame.init()\n",
        "\n",
        "prev_screen=env.render(mode='rgb_array')\n",
        "plt.imshow(prev_screen)\n",
        "\n",
        "for i_episodes_2 in range(10001):\n",
        "  action=env.reset()\n",
        "  agent,reward,done,info=env.step(action)\n",
        "  screen = env.render(mode='rgb_array')\n",
        "\n",
        "  plt.imshow(screen)\n",
        "  ipythondisplay.clear_output(wait=True)\n",
        "  ipythondisplay.display(plt.gcf())\n",
        "\n",
        "  if done:\n",
        "    break\n",
        "  ipythondisplay.clear_output(wait=True)\n",
        "  env.close()\n"
      ]
    }
  ],
  "metadata": {
    "colab": {
      "provenance": [],
      "gpuType": "V28"
    },
    "kernelspec": {
      "display_name": "Python 3",
      "name": "python3"
    },
    "language_info": {
      "name": "python"
    },
    "accelerator": "TPU"
  },
  "nbformat": 4,
  "nbformat_minor": 0
}